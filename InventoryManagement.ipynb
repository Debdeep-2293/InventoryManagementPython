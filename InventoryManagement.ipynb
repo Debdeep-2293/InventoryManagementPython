{
 "cells": [
  {
   "cell_type": "markdown",
   "metadata": {},
   "source": [
    "## Assignment 3 "
   ]
  },
  {
   "cell_type": "code",
   "execution_count": 1,
   "metadata": {},
   "outputs": [],
   "source": [
    "import random\n",
    "def sim_dice():\n",
    "    dice = {\n",
    "        \"1\": 0,\n",
    "        \"2\": 0,\n",
    "        \"3\": 0,\n",
    "        \"4\": 0,\n",
    "        \"5\": 0,\n",
    "        \"6\": 0\n",
    "    }\n",
    "    sum1=sum2=sum3=sum4=sum5=sum6=0\n",
    "    for i in range(1,10000):\n",
    "        num=random.random()\n",
    "        if num<=1/6:\n",
    "            sum1+=1\n",
    "            dice.update({'1':sum1})\n",
    "        elif 1/6<num<=2/6:\n",
    "            sum2+=1\n",
    "            dice.update({'2':sum2})\n",
    "        elif 2/6<num<=3/6:\n",
    "            sum3+=1\n",
    "            dice.update({'3':sum3})\n",
    "        elif 3/6<num<=4/6:\n",
    "            sum4+=1\n",
    "            dice.update({'4':sum4})\n",
    "        elif 4/6<num<=5/6:\n",
    "            sum5+=1\n",
    "            dice.update({'5':sum5})\n",
    "        else:\n",
    "            sum6+=1\n",
    "            dice.update({'6':sum6})\n",
    "    return(dice)    "
   ]
  },
  {
   "cell_type": "code",
   "execution_count": 2,
   "metadata": {},
   "outputs": [],
   "source": [
    "def sent_compare(sent1, sent2):\n",
    "    count = 0\n",
    "    uniqueL = []\n",
    "    sent1 = sent1.lower()\n",
    "    sent2 = sent2.lower()\n",
    "    for i in set(sent1):\n",
    "        if i in set(sent2):\n",
    "            count+=1\n",
    "            uniqueL.append(i)\n",
    "    print(\"The list of unique items\", uniqueL)\n",
    "    return print(\"Number of common unique characters in the two sentences: \", count)"
   ]
  },
  {
   "cell_type": "code",
   "execution_count": 3,
   "metadata": {},
   "outputs": [],
   "source": [
    "import re\n",
    "\n",
    "def sent_split(sent1, *delim):\n",
    "    delimiter = \"\"\n",
    "    for i in delim:\n",
    "        delimiter += i\n",
    "        delimiter += '|'\n",
    "    delimiter = delimiter[:-1]\n",
    "    sent_list = re.split(delimiter,sent1)\n",
    "    return(sent_list)"
   ]
  },
  {
   "cell_type": "code",
   "execution_count": 6,
   "metadata": {},
   "outputs": [],
   "source": [
    "def main():\n",
    "    print(\"*********************************************\")\n",
    "    print(\"* 1. Dice probability distribution simulation\")\n",
    "    print(\"* 2. Sentence comparison\")\n",
    "    print(\"* 3. Sentence Split\")\n",
    "    print(\"* 4. Press any other key to exit.\")\n",
    "    print(\"*********************************************\")\n",
    "    while(1):\n",
    "        choice = input(\"Enter user choice:\")\n",
    "        choice = int(choice)\n",
    "        print()\n",
    "        if choice == 1:\n",
    "            print(\"***Dice probability distribution simulation***\")\n",
    "            print(sim_dice())\n",
    "        elif choice == 2:\n",
    "            print(\"***Sentence comparison***\")\n",
    "            sent1 = input(\"Enter the first sentence: \")\n",
    "            sent2 = input(\"Enter the second sentence: \")\n",
    "            sent_compare(sent1,sent2)\n",
    "        elif choice == 3:\n",
    "            print(\"***Sentence Split***\")\n",
    "            sent3 = input(\"Enter the sentence: \")\n",
    "            delim = input(\"Enter the delimiters without space: \")\n",
    "            print(sent_split(sent3, *delim))\n",
    "        else:\n",
    "            print(\"Terminated\")\n",
    "            break"
   ]
  },
  {
   "cell_type": "code",
   "execution_count": 7,
   "metadata": {},
   "outputs": [
    {
     "name": "stdout",
     "output_type": "stream",
     "text": [
      "*********************************************\n",
      "* 1. Dice probability distribution simulation\n",
      "* 2. Sentence comparison\n",
      "* 3. Sentence Split\n",
      "* 4. Press any other key to exit.\n",
      "*********************************************\n",
      "Enter user choice:1\n",
      "\n",
      "***Dice probability distribution simulation***\n",
      "{'1': 1616, '2': 1668, '3': 1690, '4': 1666, '5': 1649, '6': 1710}\n",
      "Enter user choice:2\n",
      "\n",
      "***Sentence comparison***\n",
      "Enter the first sentence: I love Python Programming\n",
      "Enter the second sentence: I love Java\n",
      "The list of unique items ['a', 'e', ' ', 'o', 'v', 'l', 'i']\n",
      "Number of common unique characters in the two sentences:  7\n",
      "Enter user choice:3\n",
      "\n",
      "***Sentence Split***\n",
      "Enter the sentence: I love Python,Java,C/C++,C# and HTML\n",
      "Enter the delimiters without space: ,/#\n",
      "['I love Python', 'Java', 'C', 'C++', 'C', ' and HTML']\n",
      "Enter user choice:4\n",
      "\n",
      "Terminated\n"
     ]
    }
   ],
   "source": [
    "if __name__ == '__main__':\n",
    "        main()"
   ]
  }
 ],
 "metadata": {
  "kernelspec": {
   "display_name": "Python 3",
   "language": "python",
   "name": "python3"
  },
  "language_info": {
   "codemirror_mode": {
    "name": "ipython",
    "version": 3
   },
   "file_extension": ".py",
   "mimetype": "text/x-python",
   "name": "python",
   "nbconvert_exporter": "python",
   "pygments_lexer": "ipython3",
   "version": "3.7.6"
  }
 },
 "nbformat": 4,
 "nbformat_minor": 4
}
